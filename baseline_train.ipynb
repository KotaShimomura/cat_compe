{
 "cells": [
  {
   "cell_type": "code",
   "execution_count": 1,
   "id": "requested-suite",
   "metadata": {},
   "outputs": [],
   "source": [
    "from collections import defaultdict\n",
    "import math\n",
    "import pandas as pd\n",
    "import numpy as np\n",
    "import os\n",
    "import random\n",
    "import gc\n",
    "import cv2\n",
    "import glob\n",
    "gc.enable()\n",
    "pd.set_option('display.max_columns', None)\n",
    "\n",
    "# Visialisation\n",
    "import matplotlib.pyplot as plt\n",
    "%matplotlib inline\n",
    "\n",
    "# Image Aug\n",
    "import albumentations\n",
    "from albumentations.pytorch.transforms import ToTensorV2\n",
    "\n",
    "# Deep Learning\n",
    "from torch.utils.data import Dataset, DataLoader\n",
    "from torch.optim.lr_scheduler import CosineAnnealingWarmRestarts, OneCycleLR, CosineAnnealingLR\n",
    "import torch\n",
    "import torchvision\n",
    "import timm\n",
    "import torch.nn as nn\n",
    "import torch.nn.functional as F\n",
    "import torch.optim as optim\n",
    "import PIL\n",
    "import torchvision.transforms as T\n",
    "from torch.utils.data import DataLoader, Dataset\n",
    "\n",
    "import os\n",
    "import sys\n",
    "import gc\n",
    "import subprocess\n",
    "import random\n",
    "\n",
    "import numpy as np\n",
    "import pandas as pd\n",
    "import matplotlib.pyplot as plt\n",
    "import matplotlib.patches as patches\n",
    "from IPython.display import Video, display\n",
    "import pickle as pkl\n",
    "from sklearn.model_selection import train_test_split\n",
    "from sklearn.model_selection import StratifiedKFold, GroupKFold, KFold\n",
    "\n",
    "from scipy.optimize import minimize\n",
    "import cv2\n",
    "from glob import glob\n",
    "from tqdm.notebook import tqdm\n",
    "\n",
    "#from tqdm import tqdm\n",
    "import time\n",
    "from logging import INFO, FileHandler, Formatter, StreamHandler, getLogger\n",
    "from sklearn.metrics import f1_score"
   ]
  },
  {
   "cell_type": "code",
   "execution_count": 2,
   "id": "liked-variance",
   "metadata": {},
   "outputs": [
    {
     "name": "stdout",
     "output_type": "stream",
     "text": [
      "cuda:0\n"
     ]
    }
   ],
   "source": [
    "class CFG:\n",
    "    exp_name = \"ex2\"\n",
    "    datapath = \"/tmp/hdd/cat/cat_v1/\"\n",
    "    output_dir =  \"/tmp/hdd/cat/output/\"+exp_name+\"/\"\n",
    "    seed = 42\n",
    "    model_name = \"tf_efficientnet_b0\"\n",
    "    batch_size = 16\n",
    "    epochs=1\n",
    "    gpu = [0]\n",
    "    max_lr=1e-3\n",
    "    weight_decay=1e-4\n",
    "    n_fold=3\n",
    "    trn_fold=[0, 1, 2]\n",
    "    apex = True\n",
    "    num_workers=0\n",
    "    print_freq=50\n",
    "    \n",
    "    \n",
    "    if torch.cuda.is_available():\n",
    "        device = torch.device(f\"cuda:{gpu[0]}\")\n",
    "        print(device)\n",
    "    else:\n",
    "        CFG.device = torch.device(\"cpu\")\n",
    "        print(\"does not use GPU\")"
   ]
  },
  {
   "cell_type": "code",
   "execution_count": 3,
   "id": "reported-recycling",
   "metadata": {},
   "outputs": [],
   "source": [
    "def seed_everything(seed):\n",
    "    random.seed(seed)\n",
    "    os.environ['PYTHONHASHSEED'] = str(seed)\n",
    "    np.random.seed(seed)\n",
    "    torch.manual_seed(seed)\n",
    "    torch.cuda.manual_seed(seed)\n",
    "    torch.cuda.manual_seed_all(seed)\n",
    "    torch.backends.cudnn.deterministic = True\n",
    "    torch.backends.cudnn.benchmark = False\n",
    "    \n",
    "def get_logger(filename):\n",
    "    logger = getLogger(__name__)\n",
    "    logger.setLevel(INFO)\n",
    "    handler1 = StreamHandler()\n",
    "    handler1.setFormatter(Formatter(\"%(message)s\"))\n",
    "    handler2 = FileHandler(filename=f\"{filename}.log\")\n",
    "    handler2.setFormatter(Formatter(\"%(message)s\"))\n",
    "    logger.addHandler(handler1)\n",
    "    logger.addHandler(handler2)\n",
    "    return logger\n",
    "\n",
    "def make_dir(CFG):\n",
    "    if not os.path.exists(CFG.output_dir):\n",
    "        os.makedirs(CFG.output_dir)\n",
    "    \n",
    "make_dir(CFG)\n",
    "seed_everything(CFG.seed)\n",
    "LOGGER = get_logger(CFG.output_dir + \"train\")"
   ]
  },
  {
   "cell_type": "code",
   "execution_count": 4,
   "id": "accurate-broadcast",
   "metadata": {},
   "outputs": [],
   "source": [
    "def get_csv():\n",
    "    cat_categories = []\n",
    "    path = CFG.datapath\n",
    "    for directory in os.listdir(path):\n",
    "        if '.' not in directory:\n",
    "            cat_categories.append(directory)\n",
    "            \n",
    "    image_directory = {}\n",
    "    for i in cat_categories:\n",
    "        image_directory[i] = [os.path.join(path,i,j) for j in  os.listdir(os.path.join(path,i))]\n",
    "        \n",
    "    file_category = []\n",
    "    file_name = []\n",
    "    for i in image_directory.keys():\n",
    "        for j in image_directory[i]:\n",
    "            file_category.append(i)\n",
    "            file_name.append(j)\n",
    "\n",
    "    data = {\"categories\":file_category,\"file_name\":file_name}\n",
    "    \n",
    "    return cat_categories,pd.DataFrame(data)"
   ]
  },
  {
   "cell_type": "code",
   "execution_count": 5,
   "id": "unable-level",
   "metadata": {},
   "outputs": [],
   "source": [
    "cat_categories,train_df = get_csv()"
   ]
  },
  {
   "cell_type": "code",
   "execution_count": 6,
   "id": "expressed-reset",
   "metadata": {},
   "outputs": [
    {
     "name": "stdout",
     "output_type": "stream",
     "text": [
      "ragdoll\n",
      "/tmp/hdd/cat/cat_v1/ragdoll/86 (1).jpg\n"
     ]
    },
    {
     "data": {
      "text/plain": [
       "Text(0.5, 1.0, 'ragdoll')"
      ]
     },
     "execution_count": 6,
     "metadata": {},
     "output_type": "execute_result"
    },
    {
     "data": {
      "image/png": "[encoded data removed]",
      "text/plain": [
       "<Figure size 432x288 with 1 Axes>"
      ]
     },
     "metadata": {
      "needs_background": "light"
     },
     "output_type": "display_data"
    }
   ],
   "source": [
    "x = train_df.sample()\n",
    "random_category = x.categories.values[0]\n",
    "random_file_name = x.file_name.values[0]\n",
    "print(random_category)\n",
    "print(random_file_name)\n",
    "img = PIL.Image.open(random_file_name)\n",
    "plt.imshow(img)\n",
    "plt.title(random_category)"
   ]
  },
  {
   "cell_type": "code",
   "execution_count": 7,
   "id": "disabled-information",
   "metadata": {},
   "outputs": [
    {
     "name": "stdout",
     "output_type": "stream",
     "text": [
      "{'ragdoll': 0, 'siamese': 1, 'domestic_shorthair': 2, 'bengal': 3, 'maine_coon': 4}\n"
     ]
    }
   ],
   "source": [
    "str_to_int = {}\n",
    "for i in range(len(cat_categories)):\n",
    "    str_to_int[cat_categories[i]]=i\n",
    "    \n",
    "print(str_to_int)"
   ]
  },
  {
   "cell_type": "code",
   "execution_count": 8,
   "id": "hollywood-private",
   "metadata": {},
   "outputs": [],
   "source": [
    "Fold = StratifiedKFold(n_splits=CFG.n_fold, shuffle=True, random_state=CFG.seed)\n",
    "for n, (train_index, val_index) in enumerate(Fold.split(train_df, train_df['categories'])):\n",
    "    train_df.loc[val_index, 'fold'] = int(n)\n",
    "train_df['fold'] = train_df['fold'].astype(int)"
   ]
  },
  {
   "cell_type": "code",
   "execution_count": 9,
   "id": "thick-christmas",
   "metadata": {},
   "outputs": [],
   "source": [
    "class CatDataset(Dataset):\n",
    "    def __init__(self,cfg, data, transform=None):\n",
    "        self.data = data\n",
    "        self.transform = transform\n",
    "        \n",
    "    def __len__(self):\n",
    "        return len(self.data)\n",
    "    \n",
    "    def __getitem__(self,idx):\n",
    "        image_path = self.data['file_name'][idx]\n",
    "        image = PIL.Image.open(image_path)\n",
    "        category_name = self.data['categories'][idx]\n",
    "        label = str_to_int[category_name]\n",
    "        \n",
    "        image = image.convert('RGB')\n",
    "        \n",
    "        if self.transform:\n",
    "            image = self.transform(image)\n",
    "            \n",
    "        return image,label"
   ]
  },
  {
   "cell_type": "code",
   "execution_count": 10,
   "id": "enormous-experience",
   "metadata": {},
   "outputs": [],
   "source": [
    "IMAGENET_MEAN = [0.485, 0.456, 0.406]\n",
    "IMAGENET_STD = [0.229, 0.224, 0.225]\n",
    "\n",
    "train_aug =T.Compose([\n",
    "    T.Resize((224,224)),\n",
    "    T.ToTensor(),\n",
    "    T.Normalize(mean=IMAGENET_MEAN, std=IMAGENET_STD)\n",
    "])"
   ]
  },
  {
   "cell_type": "code",
   "execution_count": 11,
   "id": "happy-mineral",
   "metadata": {},
   "outputs": [],
   "source": [
    "class CustomModel(nn.Module):\n",
    "    def __init__(\n",
    "        self, cfg=CFG, n_class=5, pretrained=False\n",
    "    ):\n",
    "        super().__init__()\n",
    "        self.backbone = timm.create_model(\n",
    "            cfg.model_name, pretrained=pretrained, num_classes = 0)\n",
    "        \n",
    "        self.in_features = self.backbone.num_features\n",
    "        self.head = nn.Sequential(\n",
    "                    nn.Linear(self.in_features, 1024),\n",
    "                    nn.ReLU(),\n",
    "                    nn.Dropout(),\n",
    "                    nn.Linear(1024, 512),\n",
    "                    nn.Dropout(),\n",
    "                    nn.Linear(512, n_class)\n",
    "                    )\n",
    "        \n",
    "    def feature(self,x):\n",
    "        features = self.backbone(x)\n",
    "        return features\n",
    "\n",
    "    def forward(self, x):\n",
    "        backbone_features = self.feature(x)\n",
    "        x = self.head(backbone_features)\n",
    "        output = x\n",
    "        return output"
   ]
  },
  {
   "cell_type": "code",
   "execution_count": 12,
   "id": "competitive-hebrew",
   "metadata": {},
   "outputs": [],
   "source": [
    "class AverageMeter(object):\n",
    "    \"\"\"Computes and stores the average and current value\"\"\"\n",
    "\n",
    "    def __init__(self):\n",
    "        self.reset()\n",
    "\n",
    "    def reset(self):\n",
    "        self.val = 0\n",
    "        self.avg = 0\n",
    "        self.sum = 0\n",
    "        self.count = 0\n",
    "\n",
    "    def update(self, val, n=1):\n",
    "        self.val = val\n",
    "        self.sum += val * n\n",
    "        self.count += n\n",
    "        self.avg = self.sum / self.count\n",
    "\n",
    "\n",
    "def asMinutes(s):\n",
    "    m = math.floor(s / 60)\n",
    "    s -= m * 60\n",
    "    return \"%dm %ds\" % (m, s)\n",
    "\n",
    "\n",
    "def timeSince(since, percent):\n",
    "    now = time.time()\n",
    "    s = now - since\n",
    "    es = s / (percent)\n",
    "    rs = es - s\n",
    "    return \"%s (remain %s)\" % (asMinutes(s), asMinutes(rs))\n",
    "\n",
    "\n",
    "def get_lr(optimizer):\n",
    "    for param_group in optimizer.param_groups:\n",
    "        return param_group[\"lr\"]\n",
    "    \n",
    "def get_score(y_true, y_pred):\n",
    "    score=f1_score(y_true, y_pred, average='macro')\n",
    "    return score"
   ]
  },
  {
   "cell_type": "code",
   "execution_count": 13,
   "id": "central-lighting",
   "metadata": {},
   "outputs": [],
   "source": [
    "def _fit_train(\n",
    "    fold, train_loader, model, criterion, optimizer, epoch, scheduler, CFG\n",
    "):\n",
    "    model.train()\n",
    "    scaler = torch.cuda.amp.GradScaler(enabled=CFG.apex)\n",
    "    loss_meter = AverageMeter()\n",
    "    start = end = time.time()\n",
    "    t = tqdm(train_loader, total=len(train_loader))\n",
    "\n",
    "    for step, data in enumerate(t):\n",
    "        image,label = data\n",
    "\n",
    "        image = image.to(CFG.device)\n",
    "        label = label.to(CFG.device)\n",
    "        batch_size = label.size(0)\n",
    "        \n",
    "        optimizer.zero_grad()\n",
    "        with torch.cuda.amp.autocast(enabled=CFG.apex):\n",
    "            output = model(image)\n",
    "        loss = criterion(output, label) \n",
    "        loss_meter.update(loss.data)\n",
    "        t.set_description(\"[ loss: {:.4f} ]\".format(loss_meter.avg))\n",
    "        scaler.scale(loss).backward()\n",
    "        scaler.step(optimizer)\n",
    "        scaler.update()\n",
    "        \n",
    "        if step % CFG.print_freq == 0 or step == (len(train_loader)-1):\n",
    "            print('Epoch: [{0}][{1}/{2}] '\n",
    "                  'Elapsed {remain:s} '\n",
    "                  'Loss: {loss.val:.4f}({loss.avg:.4f}) '\n",
    "                  'LR: {lr:.8f}  '\n",
    "                  .format(epoch+1, step, len(train_loader), \n",
    "                          remain=timeSince(start, float(step+1)/len(train_loader)),\n",
    "                          loss=loss_meter,\n",
    "                          lr=scheduler.get_last_lr()[0]))\n",
    "        scheduler.step()\n",
    "\n",
    "    return loss_meter.avg"
   ]
  },
  {
   "cell_type": "code",
   "execution_count": 14,
   "id": "numeric-rouge",
   "metadata": {},
   "outputs": [],
   "source": [
    "def valid_fn(valid_loader, model, criterion, device):\n",
    "    losses = AverageMeter()\n",
    "    model.eval()\n",
    "    preds = []\n",
    "    target = []\n",
    "    start = end = time.time()\n",
    "    t = tqdm(valid_loader, total=len(valid_loader))\n",
    "    for step, data in enumerate(t):\n",
    "        image,label = data\n",
    "\n",
    "        image = image.to(CFG.device)\n",
    "        label = label.to(CFG.device)\n",
    "        with torch.no_grad():\n",
    "            y_preds = model(image)\n",
    "        loss = criterion(y_preds, label)\n",
    "        losses.update(loss)\n",
    "        pred=torch.argmax(y_preds,dim=1).detach().to('cpu').numpy()\n",
    "        end = time.time()\n",
    "        if step % CFG.print_freq == 0 or step == (len(valid_loader)-1):\n",
    "            print('EVAL: [{0}/{1}] '\n",
    "                  'Elapsed {remain:s} '\n",
    "                  'Loss: {loss.val:.4f}({loss.avg:.4f}) '\n",
    "                  .format(step, len(valid_loader),\n",
    "                          loss=losses,\n",
    "                          remain=timeSince(start, float(step+1)/len(valid_loader))))\n",
    "        preds.extend(pred)\n",
    "        target.extend(label.detach().to('cpu').numpy())\n",
    "    return losses.avg, preds,target"
   ]
  },
  {
   "cell_type": "code",
   "execution_count": 15,
   "id": "apparent-raleigh",
   "metadata": {},
   "outputs": [],
   "source": [
    "def train_loop(folds, fold):\n",
    "    \n",
    "    LOGGER.info(f\"========== fold: {fold} training ==========\")\n",
    "\n",
    "    # ====================================================\n",
    "    # loader\n",
    "    # ====================================================\n",
    "    train_folds = folds[folds['fold'] != fold].reset_index(drop=True)\n",
    "    valid_folds = folds[folds['fold'] == fold].reset_index(drop=True)\n",
    "    valid_labels = valid_folds['categories'].values\n",
    "    \n",
    "    train_dataset = CatDataset(CFG, train_folds,transform=train_aug)\n",
    "    valid_dataset = CatDataset(CFG, valid_folds,transform=train_aug)\n",
    "\n",
    "    train_loader = DataLoader(train_dataset,\n",
    "                              batch_size=CFG.batch_size,\n",
    "                              shuffle=True,\n",
    "                              num_workers=CFG.num_workers, pin_memory=True, drop_last=True)\n",
    "    valid_loader = DataLoader(valid_dataset,\n",
    "                              batch_size=CFG.batch_size,\n",
    "                              shuffle=False,\n",
    "                              num_workers=CFG.num_workers, pin_memory=True, drop_last=False)\n",
    "\n",
    "    # ====================================================\n",
    "    # model & optimizer\n",
    "    # ====================================================\n",
    "    model = CustomModel(CFG, pretrained=False)\n",
    "    model.to(CFG.device)\n",
    "    \n",
    "    optimizer = torch.optim.AdamW(\n",
    "            model.parameters(), lr=CFG.max_lr, weight_decay=CFG.weight_decay\n",
    "        )\n",
    "    scheduler = torch.optim.lr_scheduler.OneCycleLR(\n",
    "            optimizer, CFG.max_lr, epochs=CFG.epochs, steps_per_epoch=len(train_loader)\n",
    "        )\n",
    "    criterion = nn.CrossEntropyLoss()\n",
    "    \n",
    "    best_score = 0.\n",
    "\n",
    "    for epoch in range(CFG.epochs):\n",
    "\n",
    "        start_time = time.time()\n",
    "\n",
    "        # train\n",
    "        avg_loss = _fit_train(fold, train_loader, model, criterion, optimizer, epoch, scheduler, CFG)\n",
    "\n",
    "        # eval\n",
    "        avg_val_loss, predictions, target = valid_fn(valid_loader, model, criterion, CFG.device)\n",
    "        \n",
    "#         # scoring\n",
    "        score = get_score(target, predictions)\n",
    "\n",
    "        elapsed = time.time() - start_time\n",
    "\n",
    "        LOGGER.info(f'Epoch {epoch+1} - avg_train_loss: {avg_loss:.4f}  avg_val_loss: {avg_val_loss:.4f}  time: {elapsed:.0f}s')\n",
    "        LOGGER.info(f'Epoch {epoch+1} - Score: {score:.4f}')\n",
    "\n",
    "        \n",
    "        if best_score < score:\n",
    "            best_score = score\n",
    "            LOGGER.info(f'Epoch {epoch+1} - Save Best Score: {best_score:.4f} Model')\n",
    "            torch.save({'model': model.state_dict(),\n",
    "                        'predictions': predictions},\n",
    "                        CFG.output_dir+f\"{CFG.model_name.replace('/', '-')}_fold{fold}_best.pth\")\n",
    "            \n",
    "    predictions = torch.load(CFG.output_dir+f\"{CFG.model_name.replace('/', '-')}_fold{fold}_best.pth\", \n",
    "                             map_location=torch.device('cpu'))['predictions']\n",
    "    \n",
    "    valid_folds['pred'] = predictions\n",
    "\n",
    "    torch.cuda.empty_cache()\n",
    "    gc.collect()\n",
    "    \n",
    "    return valid_folds"
   ]
  },
  {
   "cell_type": "code",
   "execution_count": 16,
   "id": "express-piano",
   "metadata": {},
   "outputs": [],
   "source": [
    "# oof_df = pd.DataFrame()\n",
    "# for fold in range(CFG.n_fold):\n",
    "#     if fold in CFG.trn_fold:\n",
    "#         _oof_df= train_loop(train_df, fold)\n",
    "#         oof_df = pd.concat([oof_df, _oof_df])\n",
    "# oof_df = oof_df.reset_index(drop=True)\n",
    "# a = oof_df.replace(str_to_int,)"
   ]
  },
  {
   "cell_type": "code",
   "execution_count": 17,
   "id": "reflected-metallic",
   "metadata": {},
   "outputs": [
    {
     "name": "stderr",
     "output_type": "stream",
     "text": [
      "========== fold: 0 training ==========\n"
     ]
    },
    {
     "data": {
      "application/vnd.jupyter.widget-view+json": {
       "model_id": "0047ec6cc3e94818b819e8c16aad4577",
       "version_major": 2,
       "version_minor": 0
      },
      "text/plain": [
       "HBox(children=(HTML(value=''), FloatProgress(value=0.0, max=39.0), HTML(value='')))"
      ]
     },
     "metadata": {},
     "output_type": "display_data"
    },
    {
     "name": "stdout",
     "output_type": "stream",
     "text": [
      "Epoch: [1][0/39] Elapsed 0m 1s (remain 1m 11s) Loss: 1.6133(1.6133) LR: 0.00004000  \n"
     ]
    },
    {
     "name": "stderr",
     "output_type": "stream",
     "text": [
      "/opt/conda/lib/python3.8/site-packages/torch/optim/lr_scheduler.py:129: UserWarning: Detected call of `lr_scheduler.step()` before `optimizer.step()`. In PyTorch 1.1.0 and later, you should call them in the opposite order: `optimizer.step()` before `lr_scheduler.step()`.  Failure to do this will result in PyTorch skipping the first value of the learning rate schedule. See more details at https://pytorch.org/docs/stable/optim.html#how-to-adjust-learning-rate\n",
      "  warnings.warn(\"Detected call of `lr_scheduler.step()` before `optimizer.step()`. \"\n"
     ]
    },
    {
     "name": "stdout",
     "output_type": "stream",
     "text": [
      "Epoch: [1][38/39] Elapsed 0m 29s (remain 0m 0s) Loss: 1.6543(1.5889) LR: 0.00000000  \n",
      "\n"
     ]
    },
    {
     "data": {
      "application/vnd.jupyter.widget-view+json": {
       "model_id": "5ff6024e4b0240588af67ac8aedab623",
       "version_major": 2,
       "version_minor": 0
      },
      "text/plain": [
       "HBox(children=(HTML(value=''), FloatProgress(value=0.0, max=20.0), HTML(value='')))"
      ]
     },
     "metadata": {},
     "output_type": "display_data"
    },
    {
     "name": "stdout",
     "output_type": "stream",
     "text": [
      "EVAL: [0/20] Elapsed 0m 0s (remain 0m 11s) Loss: 0.7281(0.7281) \n"
     ]
    },
    {
     "name": "stderr",
     "output_type": "stream",
     "text": [
      "Epoch 1 - avg_train_loss: 1.5889  avg_val_loss: 1.7904  time: 42s\n",
      "Epoch 1 - Score: 0.1392\n",
      "Epoch 1 - Save Best Score: 0.1392 Model\n"
     ]
    },
    {
     "name": "stdout",
     "output_type": "stream",
     "text": [
      "EVAL: [19/20] Elapsed 0m 12s (remain 0m 0s) Loss: 2.2229(1.7904) \n",
      "\n"
     ]
    },
    {
     "name": "stderr",
     "output_type": "stream",
     "text": [
      "========== fold: 1 training ==========\n"
     ]
    },
    {
     "data": {
      "application/vnd.jupyter.widget-view+json": {
       "model_id": "3c07be32bb6e4dadbc55c1e55a1e4fbf",
       "version_major": 2,
       "version_minor": 0
      },
      "text/plain": [
       "HBox(children=(HTML(value=''), FloatProgress(value=0.0, max=39.0), HTML(value='')))"
      ]
     },
     "metadata": {},
     "output_type": "display_data"
    },
    {
     "name": "stdout",
     "output_type": "stream",
     "text": [
      "Epoch: [1][0/39] Elapsed 0m 0s (remain 0m 31s) Loss: 1.5918(1.5918) LR: 0.00004000  \n"
     ]
    },
    {
     "name": "stderr",
     "output_type": "stream",
     "text": [
      "/opt/conda/lib/python3.8/site-packages/torch/optim/lr_scheduler.py:129: UserWarning: Detected call of `lr_scheduler.step()` before `optimizer.step()`. In PyTorch 1.1.0 and later, you should call them in the opposite order: `optimizer.step()` before `lr_scheduler.step()`.  Failure to do this will result in PyTorch skipping the first value of the learning rate schedule. See more details at https://pytorch.org/docs/stable/optim.html#how-to-adjust-learning-rate\n",
      "  warnings.warn(\"Detected call of `lr_scheduler.step()` before `optimizer.step()`. \"\n"
     ]
    },
    {
     "name": "stdout",
     "output_type": "stream",
     "text": [
      "Epoch: [1][38/39] Elapsed 0m 27s (remain 0m 0s) Loss: 1.3623(1.6133) LR: 0.00000000  \n",
      "\n"
     ]
    },
    {
     "data": {
      "application/vnd.jupyter.widget-view+json": {
       "model_id": "460fbfbd398443078c104aea3f5f382d",
       "version_major": 2,
       "version_minor": 0
      },
      "text/plain": [
       "HBox(children=(HTML(value=''), FloatProgress(value=0.0, max=20.0), HTML(value='')))"
      ]
     },
     "metadata": {},
     "output_type": "display_data"
    },
    {
     "name": "stdout",
     "output_type": "stream",
     "text": [
      "EVAL: [0/20] Elapsed 0m 0s (remain 0m 15s) Loss: 0.7015(0.7015) \n"
     ]
    },
    {
     "name": "stderr",
     "output_type": "stream",
     "text": [
      "Epoch 1 - avg_train_loss: 1.6133  avg_val_loss: 1.9566  time: 40s\n",
      "Epoch 1 - Score: 0.0968\n",
      "Epoch 1 - Save Best Score: 0.0968 Model\n"
     ]
    },
    {
     "name": "stdout",
     "output_type": "stream",
     "text": [
      "EVAL: [19/20] Elapsed 0m 12s (remain 0m 0s) Loss: 2.4111(1.9566) \n",
      "\n"
     ]
    },
    {
     "name": "stderr",
     "output_type": "stream",
     "text": [
      "========== fold: 2 training ==========\n"
     ]
    },
    {
     "data": {
      "application/vnd.jupyter.widget-view+json": {
       "model_id": "d4d3d562a40e42e9905e97b5fc4a5115",
       "version_major": 2,
       "version_minor": 0
      },
      "text/plain": [
       "HBox(children=(HTML(value=''), FloatProgress(value=0.0, max=39.0), HTML(value='')))"
      ]
     },
     "metadata": {},
     "output_type": "display_data"
    },
    {
     "name": "stdout",
     "output_type": "stream",
     "text": [
      "Epoch: [1][0/39] Elapsed 0m 0s (remain 0m 30s) Loss: 1.6172(1.6172) LR: 0.00004000  \n"
     ]
    },
    {
     "name": "stderr",
     "output_type": "stream",
     "text": [
      "/opt/conda/lib/python3.8/site-packages/torch/optim/lr_scheduler.py:129: UserWarning: Detected call of `lr_scheduler.step()` before `optimizer.step()`. In PyTorch 1.1.0 and later, you should call them in the opposite order: `optimizer.step()` before `lr_scheduler.step()`.  Failure to do this will result in PyTorch skipping the first value of the learning rate schedule. See more details at https://pytorch.org/docs/stable/optim.html#how-to-adjust-learning-rate\n",
      "  warnings.warn(\"Detected call of `lr_scheduler.step()` before `optimizer.step()`. \"\n"
     ]
    },
    {
     "name": "stdout",
     "output_type": "stream",
     "text": [
      "Epoch: [1][38/39] Elapsed 0m 28s (remain 0m 0s) Loss: 1.7861(1.5742) LR: 0.00000000  \n",
      "\n"
     ]
    },
    {
     "data": {
      "application/vnd.jupyter.widget-view+json": {
       "model_id": "d667c1bb01e9453bb18a3e322bec0f6b",
       "version_major": 2,
       "version_minor": 0
      },
      "text/plain": [
       "HBox(children=(HTML(value=''), FloatProgress(value=0.0, max=20.0), HTML(value='')))"
      ]
     },
     "metadata": {},
     "output_type": "display_data"
    },
    {
     "name": "stdout",
     "output_type": "stream",
     "text": [
      "EVAL: [0/20] Elapsed 0m 0s (remain 0m 8s) Loss: 0.4471(0.4471) \n"
     ]
    },
    {
     "name": "stderr",
     "output_type": "stream",
     "text": [
      "Epoch 1 - avg_train_loss: 1.5742  avg_val_loss: 1.8951  time: 41s\n",
      "Epoch 1 - Score: 0.0805\n",
      "Epoch 1 - Save Best Score: 0.0805 Model\n"
     ]
    },
    {
     "name": "stdout",
     "output_type": "stream",
     "text": [
      "EVAL: [19/20] Elapsed 0m 12s (remain 0m 0s) Loss: 2.2357(1.8951) \n",
      "\n"
     ]
    },
    {
     "name": "stderr",
     "output_type": "stream",
     "text": [
      "Score: 0.1074\n"
     ]
    }
   ],
   "source": [
    "if __name__ == '__main__':\n",
    "    \n",
    "    def get_result(oof_df):\n",
    "        labels = oof_df['categories']\n",
    "        pred =oof_df['pred']\n",
    "        score=get_score(labels, pred)\n",
    "        LOGGER.info(f'Score: {score:<.4f}')\n",
    "        \n",
    "\n",
    "    oof_df = pd.DataFrame()\n",
    "    for fold in range(CFG.n_fold):\n",
    "        if fold in CFG.trn_fold:\n",
    "            _oof_df= train_loop(train_df, fold)\n",
    "            oof_df = pd.concat([oof_df, _oof_df])\n",
    "    oof_df = oof_df.reset_index(drop=True)\n",
    "    oof_df = oof_df.replace(str_to_int)\n",
    "    \n",
    "    get_result(oof_df)\n",
    "    oof_df.to_pickle(CFG.output_dir+f\"{CFG.exp_name}_oof_df.pkl\")"
   ]
  }
 ],
 "metadata": {
  "kernelspec": {
   "display_name": "Python 3",
   "language": "python",
   "name": "python3"
  },
  "language_info": {
   "codemirror_mode": {
    "name": "ipython",
    "version": 3
   },
   "file_extension": ".py",
   "mimetype": "text/x-python",
   "name": "python",
   "nbconvert_exporter": "python",
   "pygments_lexer": "ipython3",
   "version": "3.8.5"
  }
 },
 "nbformat": 4,
 "nbformat_minor": 5
}
